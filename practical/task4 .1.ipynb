{
 "cells": [
  {
   "cell_type": "code",
   "execution_count": 1,
   "id": "dd13cbc9",
   "metadata": {},
   "outputs": [],
   "source": [
    "import cv2\n",
    "import numpy\n",
    "cn=numpy.zeros((100,100))\n"
   ]
  },
  {
   "cell_type": "code",
   "execution_count": 2,
   "id": "28df4931",
   "metadata": {},
   "outputs": [
    {
     "data": {
      "text/plain": [
       "array([[0., 0., 0., ..., 0., 0., 0.],\n",
       "       [0., 0., 0., ..., 0., 0., 0.],\n",
       "       [0., 0., 0., ..., 0., 0., 0.],\n",
       "       ...,\n",
       "       [0., 0., 0., ..., 0., 0., 0.],\n",
       "       [0., 0., 0., ..., 0., 0., 0.],\n",
       "       [0., 0., 0., ..., 0., 0., 0.]])"
      ]
     },
     "execution_count": 2,
     "metadata": {},
     "output_type": "execute_result"
    }
   ],
   "source": [
    "cn"
   ]
  },
  {
   "cell_type": "code",
   "execution_count": null,
   "id": "20057302",
   "metadata": {},
   "outputs": [],
   "source": [
    "for i in range(100):\n",
    "    cn[50][i]=255\n",
    "    cn[49][i]=255\n",
    "    cn[48][i]=255\n",
    "    cn[i][50]=255\n",
    "    cn[i][48]=255\n",
    "    cn[i][49]=255\n",
    "    \n",
    "cv2.imshow('myimg',cn)\n",
    "cv2.waitKey()\n",
    "cv2.destroyAllWindow()"
   ]
  },
  {
   "cell_type": "code",
   "execution_count": null,
   "id": "328459aa",
   "metadata": {},
   "outputs": [],
   "source": []
  }
 ],
 "metadata": {
  "kernelspec": {
   "display_name": "Python 3",
   "language": "python",
   "name": "python3"
  },
  "language_info": {
   "codemirror_mode": {
    "name": "ipython",
    "version": 3
   },
   "file_extension": ".py",
   "mimetype": "text/x-python",
   "name": "python",
   "nbconvert_exporter": "python",
   "pygments_lexer": "ipython3",
   "version": "3.8.8"
  }
 },
 "nbformat": 4,
 "nbformat_minor": 5
}
