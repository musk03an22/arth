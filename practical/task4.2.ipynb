{
 "cells": [
  {
   "cell_type": "code",
   "execution_count": 128,
   "id": "cec4282b",
   "metadata": {},
   "outputs": [],
   "source": [
    "import cv2\n",
    "import numpy as np\n",
    "ph1=np.array(cv2.imread(\"1.jpg\"));\n",
    "ph2=np.array(cv2.imread(\"2.jpg\"));\n",
    "cv2.imshow('myimg1',ph1)\n",
    "cv2.waitKey()\n",
    "cv2.destroyAllWindows()"
   ]
  },
  {
   "cell_type": "code",
   "execution_count": 129,
   "id": "97879b1b",
   "metadata": {},
   "outputs": [],
   "source": [
    "cv2.imshow('myimg2',ph2)\n",
    "cv2.waitKey()\n",
    "cv2.destroyAllWindows()"
   ]
  },
  {
   "cell_type": "code",
   "execution_count": 127,
   "id": "e3114eee",
   "metadata": {},
   "outputs": [],
   "source": [
    "cph1=ph1[50:200,50:200]\n",
    "ph2[50:200,50:200]=cph1\n",
    "cv2.imshow('myimg2aftercrop',ph2)\n",
    "cv2.waitKey()\n",
    "cv2.destroyAllWindows()"
   ]
  },
  {
   "cell_type": "code",
   "execution_count": null,
   "id": "8e233277",
   "metadata": {},
   "outputs": [],
   "source": [
    "cph2=ph2[50:200,50:200]\n",
    "ph1[50:200,50:200]=cph2\n",
    "cv2.imshow('myimg1aftercrop',ph1)\n",
    "cv2.waitKey()\n",
    "cv2.destroyAllWindows()"
   ]
  },
  {
   "cell_type": "code",
   "execution_count": 118,
   "id": "ead7b5e3",
   "metadata": {},
   "outputs": [],
   "source": []
  },
  {
   "cell_type": "code",
   "execution_count": 116,
   "id": "c8ce7421",
   "metadata": {},
   "outputs": [],
   "source": []
  },
  {
   "cell_type": "code",
   "execution_count": null,
   "id": "223f44ed",
   "metadata": {},
   "outputs": [],
   "source": []
  }
 ],
 "metadata": {
  "kernelspec": {
   "display_name": "Python 3",
   "language": "python",
   "name": "python3"
  },
  "language_info": {
   "codemirror_mode": {
    "name": "ipython",
    "version": 3
   },
   "file_extension": ".py",
   "mimetype": "text/x-python",
   "name": "python",
   "nbconvert_exporter": "python",
   "pygments_lexer": "ipython3",
   "version": "3.8.8"
  }
 },
 "nbformat": 4,
 "nbformat_minor": 5
}
